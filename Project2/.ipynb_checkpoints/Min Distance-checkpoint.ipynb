{
 "cells": [
  {
   "cell_type": "code",
   "execution_count": 17,
   "metadata": {
    "collapsed": false
   },
   "outputs": [
    {
     "name": "stdout",
     "output_type": "stream",
     "text": [
      "Minimum edit distance between play and pray is 2.0\n",
      "2.0\n"
     ]
    }
   ],
   "source": [
    "import numpy\n",
    "\n",
    "def editMinDistance(source, target):\n",
    "#   Creating distance matrix\n",
    "    height = len(source)\n",
    "    width = len(target)\n",
    "    \n",
    "#   Stating various costs\n",
    "    insertion_cost = 1\n",
    "    substitution_cost = 2\n",
    "    deletion_cost = 1\n",
    "    \n",
    "#     distance_matrix = [[0 for x in range(height+1)] for x in range(width+1)]\n",
    "    distance_matrix = numpy.zeros(shape=[height +1, width+1])\n",
    "#     distance_matrix[0][0] = 0\n",
    "    \n",
    "    for x in range(1,width+1):\n",
    "        distance_matrix[x][0]= (distance_matrix[x-1][0]) + deletion_cost\n",
    "        \n",
    "    for y in range(1,height + 1):\n",
    "        distance_matrix[0][y]= (distance_matrix[0][y-1]) + insertion_cost\n",
    "        \n",
    "    for x in range(1, height+1):\n",
    "        for y in range(1, width + 1):\n",
    "            substitution_cost = 2\n",
    "            if source[x-1] == target[y-1]:\n",
    "                substitution_cost = 0\n",
    "            distance_matrix[x,y] = min((distance_matrix[x-1][y]) + deletion_cost, \n",
    "                                        (distance_matrix[x-1][y-1]) + substitution_cost,\n",
    "                                        (distance_matrix[x][y-1]) + insertion_cost)\n",
    "            \n",
    "    print(\"Minimum edit distance between \" + source + \" and \" + target + \" is \" + str(distance_matrix[height, width]))\n",
    "#     print (distance_matrix[height, width]) \n",
    "        \n",
    "\n",
    "    \n",
    "editMinDistance(\"intention\", \"execution\")"
   ]
  },
  {
   "cell_type": "code",
   "execution_count": null,
   "metadata": {
    "collapsed": true
   },
   "outputs": [],
   "source": [
    "# "
   ]
  }
 ],
 "metadata": {
  "kernelspec": {
   "display_name": "Python 3",
   "language": "python",
   "name": "python3"
  },
  "language_info": {
   "codemirror_mode": {
    "name": "ipython",
    "version": 3
   },
   "file_extension": ".py",
   "mimetype": "text/x-python",
   "name": "python",
   "nbconvert_exporter": "python",
   "pygments_lexer": "ipython3",
   "version": "3.6.0"
  }
 },
 "nbformat": 4,
 "nbformat_minor": 2
}
